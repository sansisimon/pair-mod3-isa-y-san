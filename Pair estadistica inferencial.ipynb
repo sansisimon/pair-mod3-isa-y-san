{
 "cells": [
  {
   "cell_type": "code",
   "execution_count": 1,
   "metadata": {},
   "outputs": [],
   "source": [
    "# importamos las librerías que necesitamos\n",
    "\n",
    "# Tratamiento de datos\n",
    "# -----------------------------------------------------------------------\n",
    "import pandas as pd\n",
    "import numpy as np\n",
    "\n",
    "# Visualización\n",
    "# ------------------------------------------------------------------------------\n",
    "import matplotlib.pyplot as plt\n",
    "import seaborn as sns\n",
    "\n",
    "# Evaluar linealidad de las relaciones entre las variables\n",
    "# y la distribución de las variables\n",
    "# ------------------------------------------------------------------------------\n",
    "#import scipy.stats as stats\n",
    "import scipy.stats as stats   # Importamos la librería para estadística\n",
    "from scipy.stats import shapiro, poisson, chisquare, expon, kstest\n",
    "\n",
    "\n",
    "# Configuración\n",
    "# -----------------------------------------------------------------------\n",
    "pd.set_option('display.max_columns', None) # para poder visualizar todas las columnas de los DataFrames\n",
    "\n",
    "# Gestión de los warnings\n",
    "# -----------------------------------------------------------------------\n",
    "import warnings\n",
    "warnings.filterwarnings(\"ignore\") # ignorar los future warning"
   ]
  },
  {
   "cell_type": "code",
   "execution_count": 2,
   "metadata": {},
   "outputs": [
    {
     "data": {
      "text/html": [
       "<div>\n",
       "<style scoped>\n",
       "    .dataframe tbody tr th:only-of-type {\n",
       "        vertical-align: middle;\n",
       "    }\n",
       "\n",
       "    .dataframe tbody tr th {\n",
       "        vertical-align: top;\n",
       "    }\n",
       "\n",
       "    .dataframe thead th {\n",
       "        text-align: right;\n",
       "    }\n",
       "</style>\n",
       "<table border=\"1\" class=\"dataframe\">\n",
       "  <thead>\n",
       "    <tr style=\"text-align: right;\">\n",
       "      <th></th>\n",
       "      <th>country</th>\n",
       "      <th>density</th>\n",
       "      <th>abbreviation</th>\n",
       "      <th>agricultural_land</th>\n",
       "      <th>land_area</th>\n",
       "      <th>armed_forces_size</th>\n",
       "      <th>birth_rate</th>\n",
       "      <th>calling_code</th>\n",
       "      <th>capital/major_city</th>\n",
       "      <th>co2-emissions</th>\n",
       "      <th>cpi</th>\n",
       "      <th>cpi_change</th>\n",
       "      <th>currency-code</th>\n",
       "      <th>fertility_rate</th>\n",
       "      <th>forested_area</th>\n",
       "      <th>gasoline_price</th>\n",
       "      <th>gdp</th>\n",
       "      <th>gross_primary_education_enrollment</th>\n",
       "      <th>gross_tertiary_education_enrollment</th>\n",
       "      <th>infant_mortality</th>\n",
       "      <th>largest_city</th>\n",
       "      <th>life_expectancy</th>\n",
       "      <th>maternal_mortality_ratio</th>\n",
       "      <th>minimum_wage</th>\n",
       "      <th>official_language</th>\n",
       "      <th>out_of_pocket_health_expenditure</th>\n",
       "      <th>physicians_per_thousand</th>\n",
       "      <th>population</th>\n",
       "      <th>population_labor_force_participation</th>\n",
       "      <th>tax_revenue</th>\n",
       "      <th>total_tax_rate</th>\n",
       "      <th>unemployment_rate</th>\n",
       "      <th>urban_population</th>\n",
       "      <th>latitude</th>\n",
       "      <th>longitude</th>\n",
       "      <th>continent</th>\n",
       "    </tr>\n",
       "  </thead>\n",
       "  <tbody>\n",
       "    <tr>\n",
       "      <th>0</th>\n",
       "      <td>Afghanistan</td>\n",
       "      <td>60.0</td>\n",
       "      <td>AF</td>\n",
       "      <td>58.1</td>\n",
       "      <td>652.230</td>\n",
       "      <td>323.0</td>\n",
       "      <td>32.49</td>\n",
       "      <td>93.0</td>\n",
       "      <td>Kabul</td>\n",
       "      <td>8.672</td>\n",
       "      <td>149.90</td>\n",
       "      <td>2.3</td>\n",
       "      <td>AFN</td>\n",
       "      <td>4.47</td>\n",
       "      <td>2.1</td>\n",
       "      <td>0.70</td>\n",
       "      <td>1.910135e+10</td>\n",
       "      <td>104.0</td>\n",
       "      <td>9.7</td>\n",
       "      <td>47.9</td>\n",
       "      <td>Kabul</td>\n",
       "      <td>64.5</td>\n",
       "      <td>638.0</td>\n",
       "      <td>0.43</td>\n",
       "      <td>Pashto</td>\n",
       "      <td>78.4</td>\n",
       "      <td>0.28</td>\n",
       "      <td>NaN</td>\n",
       "      <td>48.9</td>\n",
       "      <td>9.3</td>\n",
       "      <td>71.4</td>\n",
       "      <td>11.12</td>\n",
       "      <td>NaN</td>\n",
       "      <td>33.939110</td>\n",
       "      <td>67.709953</td>\n",
       "      <td>Asia</td>\n",
       "    </tr>\n",
       "    <tr>\n",
       "      <th>1</th>\n",
       "      <td>Albania</td>\n",
       "      <td>105.0</td>\n",
       "      <td>AL</td>\n",
       "      <td>43.1</td>\n",
       "      <td>28.748</td>\n",
       "      <td>9.0</td>\n",
       "      <td>11.78</td>\n",
       "      <td>355.0</td>\n",
       "      <td>Tirana</td>\n",
       "      <td>4.536</td>\n",
       "      <td>119.05</td>\n",
       "      <td>1.4</td>\n",
       "      <td>ALL</td>\n",
       "      <td>1.62</td>\n",
       "      <td>28.1</td>\n",
       "      <td>1.36</td>\n",
       "      <td>1.527808e+10</td>\n",
       "      <td>107.0</td>\n",
       "      <td>55.0</td>\n",
       "      <td>7.8</td>\n",
       "      <td>Tirana</td>\n",
       "      <td>78.5</td>\n",
       "      <td>15.0</td>\n",
       "      <td>1.12</td>\n",
       "      <td>Albanian</td>\n",
       "      <td>56.9</td>\n",
       "      <td>1.20</td>\n",
       "      <td>NaN</td>\n",
       "      <td>55.7</td>\n",
       "      <td>18.6</td>\n",
       "      <td>36.6</td>\n",
       "      <td>12.33</td>\n",
       "      <td>NaN</td>\n",
       "      <td>41.153332</td>\n",
       "      <td>20.168331</td>\n",
       "      <td>Europe</td>\n",
       "    </tr>\n",
       "  </tbody>\n",
       "</table>\n",
       "</div>"
      ],
      "text/plain": [
       "       country  density abbreviation  agricultural_land  land_area  \\\n",
       "0  Afghanistan     60.0           AF               58.1    652.230   \n",
       "1      Albania    105.0           AL               43.1     28.748   \n",
       "\n",
       "   armed_forces_size  birth_rate  calling_code capital/major_city  \\\n",
       "0              323.0       32.49          93.0              Kabul   \n",
       "1                9.0       11.78         355.0             Tirana   \n",
       "\n",
       "   co2-emissions     cpi  cpi_change currency-code  fertility_rate  \\\n",
       "0          8.672  149.90         2.3           AFN            4.47   \n",
       "1          4.536  119.05         1.4           ALL            1.62   \n",
       "\n",
       "   forested_area  gasoline_price           gdp  \\\n",
       "0            2.1            0.70  1.910135e+10   \n",
       "1           28.1            1.36  1.527808e+10   \n",
       "\n",
       "   gross_primary_education_enrollment  gross_tertiary_education_enrollment  \\\n",
       "0                               104.0                                  9.7   \n",
       "1                               107.0                                 55.0   \n",
       "\n",
       "   infant_mortality largest_city  life_expectancy  maternal_mortality_ratio  \\\n",
       "0              47.9        Kabul             64.5                     638.0   \n",
       "1               7.8       Tirana             78.5                      15.0   \n",
       "\n",
       "   minimum_wage official_language  out_of_pocket_health_expenditure  \\\n",
       "0          0.43            Pashto                              78.4   \n",
       "1          1.12          Albanian                              56.9   \n",
       "\n",
       "   physicians_per_thousand  population  population_labor_force_participation  \\\n",
       "0                     0.28         NaN                                  48.9   \n",
       "1                     1.20         NaN                                  55.7   \n",
       "\n",
       "   tax_revenue  total_tax_rate  unemployment_rate  urban_population  \\\n",
       "0          9.3            71.4              11.12               NaN   \n",
       "1         18.6            36.6              12.33               NaN   \n",
       "\n",
       "    latitude  longitude continent  \n",
       "0  33.939110  67.709953      Asia  \n",
       "1  41.153332  20.168331    Europe  "
      ]
     },
     "execution_count": 2,
     "metadata": {},
     "output_type": "execute_result"
    }
   ],
   "source": [
    "# lo primero que hacemos es cargar el dataframe que vamos a usar para esta lección\n",
    "df = pd.read_csv(\"world_data_full_apply_nulos.csv\", index_col = 0)\n",
    "df.head(2)"
   ]
  },
  {
   "cell_type": "code",
   "execution_count": 3,
   "metadata": {},
   "outputs": [
    {
     "data": {
      "text/plain": [
       "Index(['country', 'density', 'abbreviation', 'agricultural_land', 'land_area',\n",
       "       'armed_forces_size', 'birth_rate', 'calling_code', 'capital/major_city',\n",
       "       'co2-emissions', 'cpi', 'cpi_change', 'currency-code', 'fertility_rate',\n",
       "       'forested_area', 'gasoline_price', 'gdp',\n",
       "       'gross_primary_education_enrollment',\n",
       "       'gross_tertiary_education_enrollment', 'infant_mortality',\n",
       "       'largest_city', 'life_expectancy', 'maternal_mortality_ratio',\n",
       "       'minimum_wage', 'official_language', 'out_of_pocket_health_expenditure',\n",
       "       'physicians_per_thousand', 'population',\n",
       "       'population_labor_force_participation', 'tax_revenue', 'total_tax_rate',\n",
       "       'unemployment_rate', 'urban_population', 'latitude', 'longitude',\n",
       "       'continent'],\n",
       "      dtype='object')"
      ]
     },
     "execution_count": 3,
     "metadata": {},
     "output_type": "execute_result"
    }
   ],
   "source": [
    "df.columns"
   ]
  },
  {
   "cell_type": "markdown",
   "metadata": {},
   "source": [
    "1. Ejercicios intervalo de confianza. Al igual que en el caso del ejercicio de la clase, piensa un motivo por el que sería interesante calcular estos intervalos de confianza para la extracción de insights.\n",
    "\n",
    "    a: Intervalo de Confianza para la Esperanza de Vida Contexto: Trabajas en una organización de salud global y deseas estimar el intervalo de confianza al 95% para la esperanza de vida promedio de cada continente. Nota: Cuidado porque puede que os salgan algunos nulos, genera un código para que no salgan nulos en los intervalos de confianza."
   ]
  },
  {
   "cell_type": "code",
   "execution_count": 8,
   "metadata": {},
   "outputs": [],
   "source": [
    "def calculo_intervalo_confianza (df, columna, nivel_confianza): \n",
    "\n",
    "    # calcular la estimacion puntual:\n",
    "    media = df[columna].mean()\n",
    "\n",
    "    # después vamos a calcular el error estándar utilizando el método \"sem\" de la librería stats\n",
    "    error = stats.sem(df[columna], nan_policy= \"omit\")\n",
    "\n",
    "    # calculamos los grados de libertad de la muestra. Recordad que debemos restar el total de datos que tenemos -1. \n",
    "    grados_libertad = len(df[columna]) - 1\n",
    "\n",
    "    # calculamos el valor crítico de la muestra\n",
    "    valor_critico = stats.t.ppf((1 + nivel_confianza) / 2, df=grados_libertad)\n",
    "\n",
    "    # calculamos el intervalo de confianza\n",
    "    limite_inferior = media - valor_critico * error\n",
    "    limite_superior = media + valor_critico * error\n",
    "\n",
    "    print(f\"Intervalo de Confianza para {columna}:\")\n",
    "    print(f\"Media Muestral: {np.round(media, 2)}\")\n",
    "    print(f\"Error Estándar: {np.round(error, 2)}\")\n",
    "    print(f\"Nivel de Confianza: {nivel_confianza}\")\n",
    "    print(f\"Valor Crítico: {np.round(valor_critico, 2)}\")\n",
    "    print(f\"Intervalo de Confianza: ({np.round(limite_inferior, 2)}, {np.round(limite_superior, 2)})\")"
   ]
  },
  {
   "cell_type": "code",
   "execution_count": 9,
   "metadata": {},
   "outputs": [
    {
     "name": "stdout",
     "output_type": "stream",
     "text": [
      "Intervalo de Confianza para life_expectancy:\n",
      "Media Muestral: 72.28\n",
      "Error Estándar: 0.55\n",
      "Nivel de Confianza: 0.95\n",
      "Valor Crítico: 1.97\n",
      "Intervalo de Confianza: (71.2, 73.36)\n"
     ]
    }
   ],
   "source": [
    "intervalo_life_expectancy = calculo_intervalo_confianza(df, \"life_expectancy\", nivel_confianza=0.95)\n",
    "\n"
   ]
  },
  {
   "cell_type": "markdown",
   "metadata": {},
   "source": [
    "\n",
    "b. Intervalo de Confianza para el PIB Contexto: Eres una economista y quieres calcular el intervalo de confianza al 90% para el Producto Interno Bruto (PIB) de los continentes"
   ]
  },
  {
   "cell_type": "code",
   "execution_count": 11,
   "metadata": {},
   "outputs": [
    {
     "name": "stdout",
     "output_type": "stream",
     "text": [
      "Intervalo de Confianza para gdp:\n",
      "Media Muestral: 477295901399.54\n",
      "Error Estándar: 156356459750.61\n",
      "Nivel de Confianza: 0.9\n",
      "Valor Crítico: 1.65\n",
      "Intervalo de Confianza: (218878391528.32, 735713411270.76)\n"
     ]
    }
   ],
   "source": [
    "intervalo_gdp = calculo_intervalo_confianza(df, \"gdp\", 0.90)"
   ]
  },
  {
   "cell_type": "markdown",
   "metadata": {},
   "source": [
    "2. Prueba de Hipótesis\n",
    "    a. Test de Normalidad :Verifica si la variable \"life_expectancy\" (esperanza de vida) sigue una distribución normal usando el test de Shapiro-Wilk o Kolmogorov-Smirnov según el tamaño de la muestra."
   ]
  },
  {
   "cell_type": "code",
   "execution_count": null,
   "metadata": {},
   "outputs": [],
   "source": [
    "# vamos a definir una función para poder hacer el t-test de Student\n",
    "def prueba_hipotesis(*args):\n",
    "    \"\"\"\n",
    "    Realiza una prueba de hipótesis para comparar grupos.\n",
    "    1. Primero verifica si los datos son normales usando el test de Shapiro-Wilk (menos de 50 datos) o Kolmogorov-Smirnov (más de 50 datos en muestra).\n",
    "    2. Si los datos son normales, usa Bartlett para probar igualdad de varianzas. Si no son normales, usa Levene.\n",
    "    3. Si las varianzas son iguales, usa el t-test de Student; si no, usa la versión de Welch.\n",
    "    4. Si los datos no son normales, usa el test de Mann-Whitney (alternativa no paramétrica).\n",
    "    Parámetros:\n",
    "    *args: listas o arrays con los datos de cada grupo.\n",
    "    Retorna:\n",
    "    dict con resultados del test de normalidad, varianza e hipótesis.\"\"\"\n",
    "    \n",
    "    # Verificar si hay al menos dos grupos\n",
    "    if len(args) < 2:\n",
    "            raise ValueError(\"Se necesitan al menos dos conjuntos de datos para realizar la prueba.\")\n",
    "    # Comprobar normalidad en cada grupo\n",
    "    normalidad = []\n",
    "    for grupo in args:\n",
    "        if len(grupo) > 5000:\n",
    "            p_valor_norm = stats.kstest(grupo, 'norm').pvalue  # Kolmogorov-Smirnov si n > 50\n",
    "        else:\n",
    "            p_valor_norm = stats.shapiro(grupo).pvalue  # Shapiro-Wilk si n <= 5000(Hasta 5000 saphiro es robusto, aunque depende tb de otras cosas)\n",
    "        normalidad.append(p_valor_norm > 0.05)\n",
    "    #nota sansi: p_valor_norm > 0.05,  ¿qué significa esto?:\n",
    "    #Si True, significa que no hay suficiente evidencia para rechazar la hipótesis nula (es decir, los datos podrían seguir una distribución normal).\n",
    "    #Si False, significa que hay suficiente evidencia para rechazar la normalidad.\n",
    "    datos_normales = all(normalidad)\n",
    "    # La función all(iterable) en Python: all() devuelve True solo si todos los elementos en normalidad son True.\n",
    "    # Si al menos un elemento es False, entonces all() devuelve False.\n",
    "    # Es decir, si datos_normales = True, significa que todos los grupos pasaron la prueba de normalidad.\n",
    "    # Si datos_normales = False, significa que al menos un grupo no es normal.\n",
    "    # Prueba de igualdad de varianzas\n",
    "    if datos_normales: #(if datos_normales == True)\n",
    "        p_valor_varianza = stats.bartlett(*args).pvalue  # Test de Bartlett si los datos son normales\n",
    "    else:\n",
    "        p_valor_varianza = stats.levene(*args, center=\"median\").pvalue   # Test de Levene si no son normales\n",
    "    varianzas_iguales = p_valor_varianza > 0.05 # Si p_valor_varianza > 0.05, no hay suficiente evidencia para decir que las varianzas son diferentes → Se asume que las varianzas son iguales (varianzas_iguales = True).\n",
    "    # Aplicar el test adecuado\n",
    "    if datos_normales:\n",
    "        if varianzas_iguales:\n",
    "            t_stat, p_valor = stats.ttest_ind(*args, equal_var=True)\n",
    "            test_usado = \"t-test de Student (varianzas iguales)\"\n",
    "        else:\n",
    "            t_stat, p_valor = stats.ttest_ind(*args, equal_var=False)\n",
    "            test_usado = \"t-test de Welch (varianzas desiguales)\"\n",
    "    else:\n",
    "        t_stat, p_valor = stats.mannwhitneyu(*args)\n",
    "        test_usado = \"Mann-Whitney U (prueba no paramétrica)\" #cuando no hay normalidad\n",
    "    # Nivel de significancia\n",
    "    alfa = 0.05\n",
    "    # Resultados\n",
    "    resultado = {\n",
    "        \"Test de Normalidad\": normalidad,\n",
    "        \"Datos Normales\": datos_normales,\n",
    "        \"p-valor Varianza\": p_valor_varianza,\n",
    "        \"Varianzas Iguales\": varianzas_iguales,\n",
    "        \"Test Usado\": test_usado,\n",
    "        \"Estadístico\": t_stat,\n",
    "        \"p-valor\": p_valor,\n",
    "        \"Conclusión\": \"Rechazamos H0 (Diferencias significativas)\" if p_valor < alfa else \"No se rechaza H0 (No hay diferencias significativas)\"\n",
    "    }\n",
    "   # Imprimir resultados de manera más clara\n",
    "    print(\"\\n📊 **Resultados de la Prueba de Hipótesis** 📊\")\n",
    "    print(f\"✅ Test de Normalidad: {'Sí' if datos_normales else 'No'}\")\n",
    "    print(f\"   - Normalidad por grupo: {normalidad}\")\n",
    "    print(f\"✅ Test de Varianza: {'Iguales' if varianzas_iguales else 'Desiguales'} (p = {p_valor_varianza:.4f})\")\n",
    "    print(f\"✅ Test aplicado: {test_usado}\")\n",
    "    print(f\"📉 Estadístico: {t_stat:.4f}, p-valor: {p_valor:.4f}\")\n",
    "    print(f\"🔍 Conclusión: {resultado['Conclusión']}\\n\")\n",
    "\n",
    "    return resultado"
   ]
  },
  {
   "cell_type": "code",
   "execution_count": null,
   "metadata": {},
   "outputs": [],
   "source": [
    "# Verificar si hay al menos dos grupos\n",
    "\n",
    "if len(args) < 2:\n",
    "            raise ValueError(\"Se necesitan al menos dos conjuntos de datos para realizar la prueba.\")\n",
    "    \n",
    "# Comprobar normalidad en cada grupo\n",
    "normalidad = []\n",
    "for grupo in args:\n",
    "        if len(grupo) > 5000:\n",
    "            p_valor_norm = stats.kstest(grupo, 'norm').pvalue  # Kolmogorov-Smirnov si n > 50\n",
    "        else:\n",
    "            p_valor_norm = stats.shapiro(grupo).pvalue  # Shapiro-Wilk si n <= 5000(Hasta 5000 saphiro es robusto, aunque depende tb de otras cosas)\n",
    "        normalidad.append(p_valor_norm > 0.05)"
   ]
  },
  {
   "cell_type": "code",
   "execution_count": 12,
   "metadata": {},
   "outputs": [
    {
     "data": {
      "text/plain": [
       "(195, 36)"
      ]
     },
     "execution_count": 12,
     "metadata": {},
     "output_type": "execute_result"
    }
   ],
   "source": [
    "df.shape # usamos shapiro"
   ]
  },
  {
   "cell_type": "code",
   "execution_count": 14,
   "metadata": {},
   "outputs": [
    {
     "name": "stdout",
     "output_type": "stream",
     "text": [
      "no se ajusta a una distribucion normal\n"
     ]
    }
   ],
   "source": [
    "p_valor_norm = stats.shapiro(df[\"life_expectancy\"]).pvalue  # Shapiro-Wilk si n <= 5000(Hasta 5000 saphiro es robusto, aunque depende tb de otras cosas)\n",
    "if p_valor_norm > 0.05:\n",
    "    print(\"se ajusta a una distribucion normal\")\n",
    "\n",
    "else:\n",
    "    print(\"no se ajusta a una distribucion normal\")"
   ]
  },
  {
   "cell_type": "code",
   "execution_count": 19,
   "metadata": {},
   "outputs": [
    {
     "data": {
      "image/png": "[encoded data removed]",
      "text/plain": [
       "<Figure size 640x480 with 1 Axes>"
      ]
     },
     "metadata": {},
     "output_type": "display_data"
    }
   ],
   "source": [
    "sns.histplot(x = \"life_expectancy\", data = df, color = \"violet\", kde = True,  bins= 50);"
   ]
  },
  {
   "cell_type": "markdown",
   "metadata": {},
   "source": [
    "b- Test de Igualdad de Varianzas: Comprueba si la varianza del PIB (GDP) es igual en países de Europa y África usando el test de Bartlett (si los datos son normales) o Levene (si no son normales)."
   ]
  },
  {
   "cell_type": "code",
   "execution_count": 20,
   "metadata": {},
   "outputs": [
    {
     "data": {
      "text/plain": [
       "array(['Asia', 'Europe', 'Africa', 'Central America', 'South America',\n",
       "       'Oceania', 'North America', nan], dtype=object)"
      ]
     },
     "execution_count": 20,
     "metadata": {},
     "output_type": "execute_result"
    }
   ],
   "source": [
    "df[\"continent\"].unique()"
   ]
  },
  {
   "cell_type": "code",
   "execution_count": 27,
   "metadata": {},
   "outputs": [
    {
     "data": {
      "text/plain": [
       "1      1.527808e+10\n",
       "3      3.154058e+09\n",
       "9      4.463147e+11\n",
       "15     6.308046e+10\n",
       "16     5.296067e+11\n",
       "21     2.004785e+10\n",
       "25     8.600000e+10\n",
       "41     6.041555e+10\n",
       "43     2.456465e+10\n",
       "44     2.464892e+11\n",
       "46     3.480780e+11\n",
       "55     3.138695e+10\n",
       "59     2.687612e+11\n",
       "60     2.715518e+12\n",
       "63     1.774320e+10\n",
       "64     3.845630e+12\n",
       "66     2.098528e+11\n",
       "73              NaN\n",
       "75     1.609672e+11\n",
       "76     2.418804e+10\n",
       "81     3.886987e+11\n",
       "83     2.001244e+12\n",
       "93     3.411720e+10\n",
       "98     6.552859e+09\n",
       "99     5.421932e+10\n",
       "100    7.110492e+10\n",
       "106    1.478616e+10\n",
       "112    1.195544e+10\n",
       "113    7.184844e+09\n",
       "115    5.494737e+09\n",
       "122    9.090704e+11\n",
       "128    1.022078e+10\n",
       "129    4.033364e+11\n",
       "139    5.921644e+11\n",
       "140    2.376861e+11\n",
       "142    2.500774e+11\n",
       "143    1.699877e+12\n",
       "149    1.637931e+09\n",
       "153    5.140917e+10\n",
       "157    1.054223e+11\n",
       "158    5.374216e+10\n",
       "164    1.394116e+12\n",
       "168    5.308329e+11\n",
       "169    7.030824e+11\n",
       "179    7.544117e+11\n",
       "183    1.537811e+11\n",
       "185    2.827113e+12\n",
       "Name: gdp, dtype: float64"
      ]
     },
     "execution_count": 27,
     "metadata": {},
     "output_type": "execute_result"
    }
   ],
   "source": [
    "'gdp' \"continent\"\n",
    "\n",
    "df[df[\"continent\"] == \"Europe\"][\"gdp\"]"
   ]
  },
  {
   "cell_type": "code",
   "execution_count": null,
   "metadata": {},
   "outputs": [],
   "source": []
  },
  {
   "cell_type": "code",
   "execution_count": null,
   "metadata": {},
   "outputs": [],
   "source": []
  }
 ],
 "metadata": {
  "kernelspec": {
   "display_name": "Python 3",
   "language": "python",
   "name": "python3"
  },
  "language_info": {
   "codemirror_mode": {
    "name": "ipython",
    "version": 3
   },
   "file_extension": ".py",
   "mimetype": "text/x-python",
   "name": "python",
   "nbconvert_exporter": "python",
   "pygments_lexer": "ipython3",
   "version": "3.9.6"
  }
 },
 "nbformat": 4,
 "nbformat_minor": 2
}
